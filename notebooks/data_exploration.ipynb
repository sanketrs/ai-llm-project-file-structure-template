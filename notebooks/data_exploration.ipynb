# Notebook: data_exploration.ipynb 
# Author: Your Name 
# Date: 29-12-2024 
# Description: Explores the dataset, visualizes trends, and identifies potential issues. 
